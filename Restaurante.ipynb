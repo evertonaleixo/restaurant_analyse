{
 "cells": [
  {
   "cell_type": "code",
   "execution_count": 1,
   "metadata": {
    "collapsed": true
   },
   "outputs": [],
   "source": [
    "# Fazer a leitura do csv\n",
    "# https://pandas.pydata.org/pandas-docs/stable/generated/pandas.DataFrame.groupby.html\n",
    "# https://www.vooo.pro/insights/12-tecnicas-pandas-uteis-em-python-para-manipulacao-de-dados/\n",
    "\n",
    "# https://stackoverflow.com/questions/17071871/select-rows-from-a-dataframe-based-on-values-in-a-column-in-pandas\n",
    "# http://scikit-learn.org/stable/user_guide.html"
   ]
  },
  {
   "cell_type": "code",
   "execution_count": 98,
   "metadata": {
    "collapsed": true
   },
   "outputs": [],
   "source": [
    "import pandas as pd\n",
    "df1=pd.read_csv(\"./sample_convertido.csv\")"
   ]
  },
  {
   "cell_type": "code",
   "execution_count": 105,
   "metadata": {
    "collapsed": false,
    "scrolled": false
   },
   "outputs": [
    {
     "data": {
      "text/plain": [
       "Index(['﻿complemento.valorTotal', 'dets.nItem', 'dets.prod.indTot',\n",
       "       'dets.prod.qCom', 'dets.prod.uCom', 'dets.prod.vProd',\n",
       "       'dets.prod.vUnCom', 'dets.prod.xProd', 'emit.cnpj',\n",
       "       'emit.enderEmit.fone', 'emit.enderEmit.uf', 'emit.enderEmit.xBairro',\n",
       "       'emit.enderEmit.xLgr', 'emit.enderEmit.xMun', 'emit.enderEmit.xPais',\n",
       "       'emit.xFant', 'ide.dhEmi.$date', 'ide.natOp', 'infAdic.infCpl',\n",
       "       'total.icmsTot.vbc', 'total.icmsTot.vbcst', 'total.icmsTot.vcofins',\n",
       "       'total.icmsTot.vDesc', 'total.icmsTot.vFrete', 'total.icmsTot.vicms',\n",
       "       'total.icmsTot.vicmsDeson', 'total.icmsTot.vii', 'total.icmsTot.vipi',\n",
       "       'total.icmsTot.vnf', 'total.icmsTot.vOutro', 'total.icmsTot.vpis',\n",
       "       'total.icmsTot.vProd', 'total.icmsTot.vSeg', 'total.icmsTot.vst',\n",
       "       'total.icmsTot.vTotTrib', 'versaoDocumento'],\n",
       "      dtype='object')"
      ]
     },
     "execution_count": 105,
     "metadata": {},
     "output_type": "execute_result"
    }
   ],
   "source": [
    "df1.columns"
   ]
  },
  {
   "cell_type": "code",
   "execution_count": 100,
   "metadata": {
    "collapsed": false
   },
   "outputs": [],
   "source": [
    "valores = df1[[0]]"
   ]
  },
  {
   "cell_type": "code",
   "execution_count": 101,
   "metadata": {
    "collapsed": true
   },
   "outputs": [],
   "source": [
    "from sklearn import preprocessing\n",
    "import numpy as np"
   ]
  },
  {
   "cell_type": "code",
   "execution_count": 102,
   "metadata": {
    "collapsed": false
   },
   "outputs": [],
   "source": [
    "def printStats(x):\n",
    "    print(\"Mean= \", np.mean(x))\n",
    "    print(\"Median= \", np.median(x))\n",
    "    print(\"Max/Min=\", x.max(), \" \", x.min())\n",
    "    print(\"StdDev=\", np.std(x))\n",
    "    print(\"90th Percentile\", np.percentile(x, 90))"
   ]
  },
  {
   "cell_type": "code",
   "execution_count": 103,
   "metadata": {
    "collapsed": false
   },
   "outputs": [],
   "source": [
    "# https://stackoverflow.com/questions/22137723/convert-number-strings-with-commas-in-pandas-dataframe-to-float\n",
    "\n",
    "import locale\n",
    "from locale import atof\n",
    "\n",
    "locale.setlocale(locale.LC_NUMERIC, '')\n",
    "\n",
    "valores = valores.applymap(atof)"
   ]
  },
  {
   "cell_type": "code",
   "execution_count": 104,
   "metadata": {
    "collapsed": false
   },
   "outputs": [
    {
     "name": "stdout",
     "output_type": "stream",
     "text": [
      "Mean=  ﻿complemento.valorTotal    66.903279\n",
      "dtype: float64\n",
      "Median=  52.82\n",
      "Max/Min= ﻿complemento.valorTotal    608.91\n",
      "dtype: float64   ﻿complemento.valorTotal    9.74\n",
      "dtype: float64\n",
      "StdDev= ﻿complemento.valorTotal    53.433176\n",
      "dtype: float64\n",
      "90th Percentile 119.95\n"
     ]
    }
   ],
   "source": [
    "printStats(valores)"
   ]
  },
  {
   "cell_type": "code",
   "execution_count": 113,
   "metadata": {
    "collapsed": false
   },
   "outputs": [],
   "source": [
    "ddd = df1[[0, 16]]"
   ]
  },
  {
   "cell_type": "code",
   "execution_count": 182,
   "metadata": {
    "collapsed": false
   },
   "outputs": [],
   "source": [
    "def myTransform2(x):\n",
    "    return \"{}\".format(x).replace(\",\",\".\")"
   ]
  },
  {
   "cell_type": "code",
   "execution_count": 246,
   "metadata": {
    "collapsed": false
   },
   "outputs": [],
   "source": [
    "ddd = ddd.applymap(myTransform2)"
   ]
  },
  {
   "cell_type": "code",
   "execution_count": 248,
   "metadata": {
    "collapsed": false
   },
   "outputs": [],
   "source": [
    "ddd.columns = [\"val\", \"data\"]"
   ]
  },
  {
   "cell_type": "code",
   "execution_count": 252,
   "metadata": {
    "collapsed": false
   },
   "outputs": [],
   "source": [
    "# https://stackoverflow.com/questions/17134716/convert-dataframe-column-type-from-string-to-datetime\n",
    "\n",
    "ddd['data'] = ddd['data'].astype('datetime64[ns]')\n",
    "ddd['val'] = ddd['val'].astype('float')"
   ]
  },
  {
   "cell_type": "code",
   "execution_count": 258,
   "metadata": {
    "collapsed": false
   },
   "outputs": [
    {
     "data": {
      "text/plain": [
       "val    15341.023256\n",
       "dtype: float64"
      ]
     },
     "execution_count": 258,
     "metadata": {},
     "output_type": "execute_result"
    }
   ],
   "source": [
    "ddd[ddd['val']>10008]"
   ]
  },
  {
   "cell_type": "code",
   "execution_count": 269,
   "metadata": {
    "collapsed": false
   },
   "outputs": [
    {
     "data": {
      "text/plain": [
       "val     1605\n",
       "data    1605\n",
       "dtype: int64"
      ]
     },
     "execution_count": 269,
     "metadata": {},
     "output_type": "execute_result"
    }
   ],
   "source": [
    "# https://stackoverflow.com/questions/466345/converting-string-into-datetime\n",
    "\n",
    "from dateutil import parser\n",
    "ddd['data'].count()\n",
    "ddd[ddd['data'] > parser.parse(\"2016-01-15\")].count()"
   ]
  },
  {
   "cell_type": "code",
   "execution_count": null,
   "metadata": {
    "collapsed": true
   },
   "outputs": [],
   "source": []
  }
 ],
 "metadata": {
  "kernelspec": {
   "display_name": "Python [Root]",
   "language": "python",
   "name": "Python [Root]"
  },
  "language_info": {
   "codemirror_mode": {
    "name": "ipython",
    "version": 3
   },
   "file_extension": ".py",
   "mimetype": "text/x-python",
   "name": "python",
   "nbconvert_exporter": "python",
   "pygments_lexer": "ipython3",
   "version": "3.5.2"
  }
 },
 "nbformat": 4,
 "nbformat_minor": 0
}
